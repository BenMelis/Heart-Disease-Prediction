{
 "cells": [
  {
   "metadata": {
    "ExecuteTime": {
     "end_time": "2024-05-25T18:54:37.732796Z",
     "start_time": "2024-05-25T18:54:37.726811Z"
    }
   },
   "cell_type": "code",
   "source": [
    "import numpy as np\n",
    "import pandas as pd\n",
    "import matplotlib.pyplot as plt\n",
    "\n",
    "from sklearn.model_selection import train_test_split\n",
    "from sklearn.preprocessing import StandardScaler\n",
    "from sklearn.model_selection import GridSearchCV\n",
    "from sklearn.linear_model import LogisticRegression\n",
    "from sklearn.neighbors import KNeighborsClassifier\n",
    "from sklearn.tree import DecisionTreeClassifier\n",
    "from sklearn.ensemble import RandomForestClassifier\n",
    "from sklearn.svm import SVC"
   ],
   "id": "aa9706a6128a7b51",
   "outputs": [],
   "execution_count": 613
  },
  {
   "metadata": {},
   "cell_type": "markdown",
   "source": [
    "# Predicting Heart Disease With Various Machine Learning Models\n",
    "\n",
    "As the title suggests, the purpose of this notebook is to predict heart disease with various machine learning models. At the end of this notebook, a comparison is made between the different models to determine which method is best for this specific problem and dataset. \n",
    "\n",
    "The algorithms used in this notebook are the following: \n",
    "- Logistic Regression\n",
    "- K-Nearest Neighbors\n",
    "- Decision Tree (Classification Tree)\n",
    "- Random Forest\n",
    "- Support Vector Machines\n",
    "\n",
    "The dataset used in this notebook is the `Heart Disease` dataset from the [`UCI Machine Learning Repository`](https://archive.ics.uci.edu/dataset/45/heart+disease). Specifically, the `processed.cleveland.data` dataset is used in this notebook."
   ],
   "id": "b793a705d594f5d8"
  },
  {
   "metadata": {},
   "cell_type": "markdown",
   "source": [
    "## 1. Exploring the dataset\n",
    "\n",
    "In this next cell, the dataset is imported into the notebook as a DataFrame and the column names are set according to the UCI documentation."
   ],
   "id": "76db45f326f31986"
  },
  {
   "metadata": {
    "ExecuteTime": {
     "end_time": "2024-05-25T18:51:36.415707Z",
     "start_time": "2024-05-25T18:51:36.406320Z"
    }
   },
   "cell_type": "code",
   "source": [
    "df = pd.read_csv('processed.cleveland.data')\n",
    "df.columns = ['age', 'sex', 'cp', 'trestbps', 'chol', 'fbs', 'restecg', 'thalach', 'exang', 'oldpeak', 'slope', 'ca', 'thal', 'target']\n",
    "df.head()"
   ],
   "id": "9f310270d8eb6f1",
   "outputs": [
    {
     "data": {
      "text/plain": [
       "    age  sex   cp  trestbps   chol  fbs  restecg  thalach  exang  oldpeak  \\\n",
       "0  67.0  1.0  4.0     160.0  286.0  0.0      2.0    108.0    1.0      1.5   \n",
       "1  67.0  1.0  4.0     120.0  229.0  0.0      2.0    129.0    1.0      2.6   \n",
       "2  37.0  1.0  3.0     130.0  250.0  0.0      0.0    187.0    0.0      3.5   \n",
       "3  41.0  0.0  2.0     130.0  204.0  0.0      2.0    172.0    0.0      1.4   \n",
       "4  56.0  1.0  2.0     120.0  236.0  0.0      0.0    178.0    0.0      0.8   \n",
       "\n",
       "   slope   ca thal  target  \n",
       "0    2.0  3.0  3.0       2  \n",
       "1    2.0  2.0  7.0       1  \n",
       "2    3.0  0.0  3.0       0  \n",
       "3    1.0  0.0  3.0       0  \n",
       "4    1.0  0.0  3.0       0  "
      ],
      "text/html": [
       "<div>\n",
       "<style scoped>\n",
       "    .dataframe tbody tr th:only-of-type {\n",
       "        vertical-align: middle;\n",
       "    }\n",
       "\n",
       "    .dataframe tbody tr th {\n",
       "        vertical-align: top;\n",
       "    }\n",
       "\n",
       "    .dataframe thead th {\n",
       "        text-align: right;\n",
       "    }\n",
       "</style>\n",
       "<table border=\"1\" class=\"dataframe\">\n",
       "  <thead>\n",
       "    <tr style=\"text-align: right;\">\n",
       "      <th></th>\n",
       "      <th>age</th>\n",
       "      <th>sex</th>\n",
       "      <th>cp</th>\n",
       "      <th>trestbps</th>\n",
       "      <th>chol</th>\n",
       "      <th>fbs</th>\n",
       "      <th>restecg</th>\n",
       "      <th>thalach</th>\n",
       "      <th>exang</th>\n",
       "      <th>oldpeak</th>\n",
       "      <th>slope</th>\n",
       "      <th>ca</th>\n",
       "      <th>thal</th>\n",
       "      <th>target</th>\n",
       "    </tr>\n",
       "  </thead>\n",
       "  <tbody>\n",
       "    <tr>\n",
       "      <th>0</th>\n",
       "      <td>67.0</td>\n",
       "      <td>1.0</td>\n",
       "      <td>4.0</td>\n",
       "      <td>160.0</td>\n",
       "      <td>286.0</td>\n",
       "      <td>0.0</td>\n",
       "      <td>2.0</td>\n",
       "      <td>108.0</td>\n",
       "      <td>1.0</td>\n",
       "      <td>1.5</td>\n",
       "      <td>2.0</td>\n",
       "      <td>3.0</td>\n",
       "      <td>3.0</td>\n",
       "      <td>2</td>\n",
       "    </tr>\n",
       "    <tr>\n",
       "      <th>1</th>\n",
       "      <td>67.0</td>\n",
       "      <td>1.0</td>\n",
       "      <td>4.0</td>\n",
       "      <td>120.0</td>\n",
       "      <td>229.0</td>\n",
       "      <td>0.0</td>\n",
       "      <td>2.0</td>\n",
       "      <td>129.0</td>\n",
       "      <td>1.0</td>\n",
       "      <td>2.6</td>\n",
       "      <td>2.0</td>\n",
       "      <td>2.0</td>\n",
       "      <td>7.0</td>\n",
       "      <td>1</td>\n",
       "    </tr>\n",
       "    <tr>\n",
       "      <th>2</th>\n",
       "      <td>37.0</td>\n",
       "      <td>1.0</td>\n",
       "      <td>3.0</td>\n",
       "      <td>130.0</td>\n",
       "      <td>250.0</td>\n",
       "      <td>0.0</td>\n",
       "      <td>0.0</td>\n",
       "      <td>187.0</td>\n",
       "      <td>0.0</td>\n",
       "      <td>3.5</td>\n",
       "      <td>3.0</td>\n",
       "      <td>0.0</td>\n",
       "      <td>3.0</td>\n",
       "      <td>0</td>\n",
       "    </tr>\n",
       "    <tr>\n",
       "      <th>3</th>\n",
       "      <td>41.0</td>\n",
       "      <td>0.0</td>\n",
       "      <td>2.0</td>\n",
       "      <td>130.0</td>\n",
       "      <td>204.0</td>\n",
       "      <td>0.0</td>\n",
       "      <td>2.0</td>\n",
       "      <td>172.0</td>\n",
       "      <td>0.0</td>\n",
       "      <td>1.4</td>\n",
       "      <td>1.0</td>\n",
       "      <td>0.0</td>\n",
       "      <td>3.0</td>\n",
       "      <td>0</td>\n",
       "    </tr>\n",
       "    <tr>\n",
       "      <th>4</th>\n",
       "      <td>56.0</td>\n",
       "      <td>1.0</td>\n",
       "      <td>2.0</td>\n",
       "      <td>120.0</td>\n",
       "      <td>236.0</td>\n",
       "      <td>0.0</td>\n",
       "      <td>0.0</td>\n",
       "      <td>178.0</td>\n",
       "      <td>0.0</td>\n",
       "      <td>0.8</td>\n",
       "      <td>1.0</td>\n",
       "      <td>0.0</td>\n",
       "      <td>3.0</td>\n",
       "      <td>0</td>\n",
       "    </tr>\n",
       "  </tbody>\n",
       "</table>\n",
       "</div>"
      ]
     },
     "execution_count": 573,
     "metadata": {},
     "output_type": "execute_result"
    }
   ],
   "execution_count": 573
  },
  {
   "metadata": {
    "ExecuteTime": {
     "end_time": "2024-05-25T18:51:36.419248Z",
     "start_time": "2024-05-25T18:51:36.416677Z"
    }
   },
   "cell_type": "code",
   "source": "df.shape",
   "id": "bb8f80d8455bb314",
   "outputs": [
    {
     "data": {
      "text/plain": [
       "(302, 14)"
      ]
     },
     "execution_count": 574,
     "metadata": {},
     "output_type": "execute_result"
    }
   ],
   "execution_count": 574
  },
  {
   "metadata": {
    "ExecuteTime": {
     "end_time": "2024-05-25T18:51:36.472947Z",
     "start_time": "2024-05-25T18:51:36.458394Z"
    }
   },
   "cell_type": "code",
   "source": "df.describe()",
   "id": "4f84e58f1ed6b842",
   "outputs": [
    {
     "data": {
      "text/plain": [
       "              age         sex          cp    trestbps        chol         fbs  \\\n",
       "count  302.000000  302.000000  302.000000  302.000000  302.000000  302.000000   \n",
       "mean    54.410596    0.678808    3.165563  131.645695  246.738411    0.145695   \n",
       "std      9.040163    0.467709    0.953612   17.612202   51.856829    0.353386   \n",
       "min     29.000000    0.000000    1.000000   94.000000  126.000000    0.000000   \n",
       "25%     48.000000    0.000000    3.000000  120.000000  211.000000    0.000000   \n",
       "50%     55.500000    1.000000    3.000000  130.000000  241.500000    0.000000   \n",
       "75%     61.000000    1.000000    4.000000  140.000000  275.000000    0.000000   \n",
       "max     77.000000    1.000000    4.000000  200.000000  564.000000    1.000000   \n",
       "\n",
       "          restecg     thalach       exang     oldpeak       slope      target  \n",
       "count  302.000000  302.000000  302.000000  302.000000  302.000000  302.000000  \n",
       "mean     0.986755  149.605960    0.327815    1.035430    1.596026    0.940397  \n",
       "std      0.994916   22.912959    0.470196    1.160723    0.611939    1.229384  \n",
       "min      0.000000   71.000000    0.000000    0.000000    1.000000    0.000000  \n",
       "25%      0.000000  133.250000    0.000000    0.000000    1.000000    0.000000  \n",
       "50%      0.500000  153.000000    0.000000    0.800000    2.000000    0.000000  \n",
       "75%      2.000000  166.000000    1.000000    1.600000    2.000000    2.000000  \n",
       "max      2.000000  202.000000    1.000000    6.200000    3.000000    4.000000  "
      ],
      "text/html": [
       "<div>\n",
       "<style scoped>\n",
       "    .dataframe tbody tr th:only-of-type {\n",
       "        vertical-align: middle;\n",
       "    }\n",
       "\n",
       "    .dataframe tbody tr th {\n",
       "        vertical-align: top;\n",
       "    }\n",
       "\n",
       "    .dataframe thead th {\n",
       "        text-align: right;\n",
       "    }\n",
       "</style>\n",
       "<table border=\"1\" class=\"dataframe\">\n",
       "  <thead>\n",
       "    <tr style=\"text-align: right;\">\n",
       "      <th></th>\n",
       "      <th>age</th>\n",
       "      <th>sex</th>\n",
       "      <th>cp</th>\n",
       "      <th>trestbps</th>\n",
       "      <th>chol</th>\n",
       "      <th>fbs</th>\n",
       "      <th>restecg</th>\n",
       "      <th>thalach</th>\n",
       "      <th>exang</th>\n",
       "      <th>oldpeak</th>\n",
       "      <th>slope</th>\n",
       "      <th>target</th>\n",
       "    </tr>\n",
       "  </thead>\n",
       "  <tbody>\n",
       "    <tr>\n",
       "      <th>count</th>\n",
       "      <td>302.000000</td>\n",
       "      <td>302.000000</td>\n",
       "      <td>302.000000</td>\n",
       "      <td>302.000000</td>\n",
       "      <td>302.000000</td>\n",
       "      <td>302.000000</td>\n",
       "      <td>302.000000</td>\n",
       "      <td>302.000000</td>\n",
       "      <td>302.000000</td>\n",
       "      <td>302.000000</td>\n",
       "      <td>302.000000</td>\n",
       "      <td>302.000000</td>\n",
       "    </tr>\n",
       "    <tr>\n",
       "      <th>mean</th>\n",
       "      <td>54.410596</td>\n",
       "      <td>0.678808</td>\n",
       "      <td>3.165563</td>\n",
       "      <td>131.645695</td>\n",
       "      <td>246.738411</td>\n",
       "      <td>0.145695</td>\n",
       "      <td>0.986755</td>\n",
       "      <td>149.605960</td>\n",
       "      <td>0.327815</td>\n",
       "      <td>1.035430</td>\n",
       "      <td>1.596026</td>\n",
       "      <td>0.940397</td>\n",
       "    </tr>\n",
       "    <tr>\n",
       "      <th>std</th>\n",
       "      <td>9.040163</td>\n",
       "      <td>0.467709</td>\n",
       "      <td>0.953612</td>\n",
       "      <td>17.612202</td>\n",
       "      <td>51.856829</td>\n",
       "      <td>0.353386</td>\n",
       "      <td>0.994916</td>\n",
       "      <td>22.912959</td>\n",
       "      <td>0.470196</td>\n",
       "      <td>1.160723</td>\n",
       "      <td>0.611939</td>\n",
       "      <td>1.229384</td>\n",
       "    </tr>\n",
       "    <tr>\n",
       "      <th>min</th>\n",
       "      <td>29.000000</td>\n",
       "      <td>0.000000</td>\n",
       "      <td>1.000000</td>\n",
       "      <td>94.000000</td>\n",
       "      <td>126.000000</td>\n",
       "      <td>0.000000</td>\n",
       "      <td>0.000000</td>\n",
       "      <td>71.000000</td>\n",
       "      <td>0.000000</td>\n",
       "      <td>0.000000</td>\n",
       "      <td>1.000000</td>\n",
       "      <td>0.000000</td>\n",
       "    </tr>\n",
       "    <tr>\n",
       "      <th>25%</th>\n",
       "      <td>48.000000</td>\n",
       "      <td>0.000000</td>\n",
       "      <td>3.000000</td>\n",
       "      <td>120.000000</td>\n",
       "      <td>211.000000</td>\n",
       "      <td>0.000000</td>\n",
       "      <td>0.000000</td>\n",
       "      <td>133.250000</td>\n",
       "      <td>0.000000</td>\n",
       "      <td>0.000000</td>\n",
       "      <td>1.000000</td>\n",
       "      <td>0.000000</td>\n",
       "    </tr>\n",
       "    <tr>\n",
       "      <th>50%</th>\n",
       "      <td>55.500000</td>\n",
       "      <td>1.000000</td>\n",
       "      <td>3.000000</td>\n",
       "      <td>130.000000</td>\n",
       "      <td>241.500000</td>\n",
       "      <td>0.000000</td>\n",
       "      <td>0.500000</td>\n",
       "      <td>153.000000</td>\n",
       "      <td>0.000000</td>\n",
       "      <td>0.800000</td>\n",
       "      <td>2.000000</td>\n",
       "      <td>0.000000</td>\n",
       "    </tr>\n",
       "    <tr>\n",
       "      <th>75%</th>\n",
       "      <td>61.000000</td>\n",
       "      <td>1.000000</td>\n",
       "      <td>4.000000</td>\n",
       "      <td>140.000000</td>\n",
       "      <td>275.000000</td>\n",
       "      <td>0.000000</td>\n",
       "      <td>2.000000</td>\n",
       "      <td>166.000000</td>\n",
       "      <td>1.000000</td>\n",
       "      <td>1.600000</td>\n",
       "      <td>2.000000</td>\n",
       "      <td>2.000000</td>\n",
       "    </tr>\n",
       "    <tr>\n",
       "      <th>max</th>\n",
       "      <td>77.000000</td>\n",
       "      <td>1.000000</td>\n",
       "      <td>4.000000</td>\n",
       "      <td>200.000000</td>\n",
       "      <td>564.000000</td>\n",
       "      <td>1.000000</td>\n",
       "      <td>2.000000</td>\n",
       "      <td>202.000000</td>\n",
       "      <td>1.000000</td>\n",
       "      <td>6.200000</td>\n",
       "      <td>3.000000</td>\n",
       "      <td>4.000000</td>\n",
       "    </tr>\n",
       "  </tbody>\n",
       "</table>\n",
       "</div>"
      ]
     },
     "execution_count": 575,
     "metadata": {},
     "output_type": "execute_result"
    }
   ],
   "execution_count": 575
  },
  {
   "metadata": {
    "ExecuteTime": {
     "end_time": "2024-05-25T18:51:36.967309Z",
     "start_time": "2024-05-25T18:51:36.515354Z"
    }
   },
   "cell_type": "code",
   "source": "df.hist()",
   "id": "6dda51f1f98cc373",
   "outputs": [
    {
     "data": {
      "text/plain": [
       "array([[<Axes: title={'center': 'age'}>, <Axes: title={'center': 'sex'}>,\n",
       "        <Axes: title={'center': 'cp'}>],\n",
       "       [<Axes: title={'center': 'trestbps'}>,\n",
       "        <Axes: title={'center': 'chol'}>,\n",
       "        <Axes: title={'center': 'fbs'}>],\n",
       "       [<Axes: title={'center': 'restecg'}>,\n",
       "        <Axes: title={'center': 'thalach'}>,\n",
       "        <Axes: title={'center': 'exang'}>],\n",
       "       [<Axes: title={'center': 'oldpeak'}>,\n",
       "        <Axes: title={'center': 'slope'}>,\n",
       "        <Axes: title={'center': 'target'}>]], dtype=object)"
      ]
     },
     "execution_count": 576,
     "metadata": {},
     "output_type": "execute_result"
    },
    {
     "data": {
      "text/plain": [
       "<Figure size 640x480 with 12 Axes>"
      ],
      "image/png": "[encoded data removed]"
     },
     "metadata": {},
     "output_type": "display_data"
    }
   ],
   "execution_count": 576
  },
  {
   "metadata": {},
   "cell_type": "markdown",
   "source": "The above histograms show that not all features share the same distribution, so standardizing will definitely be useful. The categorical features are also clearly visible.",
   "id": "be249b299cdaa8a1"
  },
  {
   "metadata": {},
   "cell_type": "markdown",
   "source": [
    "Here is a description of each feature (column) according to the UCI documentation:\n",
    "\n",
    "* age: int\n",
    "* sex: category\n",
    "    * 0 = Female\n",
    "    * 1 = Male\n",
    "* cp: category (chest pain)\n",
    "    * 1 = Typical angina\n",
    "    * 2 = Atypical angina\n",
    "    * 3 = Non-anginal pain\n",
    "    * 4 = Asymptomatic\n",
    "* trestbps: int (resting blood pressure in mmHg)\n",
    "* chol: int (serum cholesterol in mg/dl)\n",
    "* fbs: category (fasting blood sugar > 120mg/dl)\n",
    "    * 0 = False\n",
    "    * 1 = True\n",
    "* restecg: category (resting electrocardiographic results)\n",
    "    * 0 = Normal\n",
    "    * 1 = Having ST-T wave abnormality\n",
    "    * 2 = Showing probable or definite left ventricular hypertrophy by Estes' criteria\n",
    "* thalach: int (maximum heart rate achieved)\n",
    "* exang: category (exercise induced angina)\n",
    "    * 0 = No\n",
    "    * 1 = Yes\n",
    "* oldpeak: int (ST depression induced by exercise relative to rest)\n",
    "* slope: category (the slope of the peak exercise ST segment)\n",
    "    * 1 = Upsloping\n",
    "    * 2 = Flat\n",
    "    * 3 = Downsloping\n",
    "* ca: int (number of major vessels [0-3] colored by flouroscopy)\n",
    "* thal: category (not sure...)\n",
    "    * 3 = Normal\n",
    "    * 6 = Fixed defect\n",
    "    * 7 = Reversable defect\n",
    "* target: category (has heart disease)\n",
    "    * 0 = No\n",
    "    * 1 = Yes\n",
    "\n",
    "The `target` column still needs to be changed. All 2's, 3's and 4's will be replaced with 1's. This simplifies the problem to binary classification, there also seems to be no documentation within UCI that explains the values outside of 1 and 0. The next step will modify the `target` column."
   ],
   "id": "c45ad4b6c0c8a83b"
  },
  {
   "metadata": {
    "ExecuteTime": {
     "end_time": "2024-05-25T18:51:36.971357Z",
     "start_time": "2024-05-25T18:51:36.968755Z"
    }
   },
   "cell_type": "code",
   "source": "df['target'].unique()",
   "id": "42297fef218d0c71",
   "outputs": [
    {
     "data": {
      "text/plain": [
       "array([2, 1, 0, 3, 4])"
      ]
     },
     "execution_count": 577,
     "metadata": {},
     "output_type": "execute_result"
    }
   ],
   "execution_count": 577
  },
  {
   "metadata": {
    "ExecuteTime": {
     "end_time": "2024-05-25T18:51:36.975749Z",
     "start_time": "2024-05-25T18:51:36.972109Z"
    }
   },
   "cell_type": "code",
   "source": [
    "df.loc[(df['target'] == 2), 'target'] = 1\n",
    "df.loc[(df['target'] == 3), 'target'] = 1\n",
    "df.loc[(df['target'] == 4), 'target'] = 1\n",
    "df['target'].unique()"
   ],
   "id": "7953c91a32380463",
   "outputs": [
    {
     "data": {
      "text/plain": [
       "array([1, 0])"
      ]
     },
     "execution_count": 578,
     "metadata": {},
     "output_type": "execute_result"
    }
   ],
   "execution_count": 578
  },
  {
   "metadata": {
    "ExecuteTime": {
     "end_time": "2024-05-25T18:51:37.049035Z",
     "start_time": "2024-05-25T18:51:36.977333Z"
    }
   },
   "cell_type": "code",
   "source": [
    "plt.bar(df['target'].unique(), df['target'].value_counts(), color = ['red', 'green'])\n",
    "plt.xticks([0, 1])\n",
    "plt.xlabel('Target Classes')\n",
    "plt.ylabel('Count')\n",
    "plt.title('Count of each Target Class')"
   ],
   "id": "8da636795d674c0d",
   "outputs": [
    {
     "data": {
      "text/plain": [
       "Text(0.5, 1.0, 'Count of each Target Class')"
      ]
     },
     "execution_count": 579,
     "metadata": {},
     "output_type": "execute_result"
    },
    {
     "data": {
      "text/plain": [
       "<Figure size 640x480 with 1 Axes>"
      ],
      "image/png": "[encoded data removed]"
     },
     "metadata": {},
     "output_type": "display_data"
    }
   ],
   "execution_count": 579
  },
  {
   "metadata": {},
   "cell_type": "markdown",
   "source": "While the target classes not exactly equally divided, it is still close enough to proceed without dropping or increasing our data.",
   "id": "8e3a9a81718e99da"
  },
  {
   "metadata": {},
   "cell_type": "markdown",
   "source": [
    "## 2. Data Preprocessing\n",
    "\n",
    "First of all, the dataset is checked for missing values."
   ],
   "id": "5d36ec6f714f401f"
  },
  {
   "metadata": {
    "ExecuteTime": {
     "end_time": "2024-05-25T18:51:37.054749Z",
     "start_time": "2024-05-25T18:51:37.049892Z"
    }
   },
   "cell_type": "code",
   "source": "df.info()",
   "id": "9c01f21b7ce5dcc",
   "outputs": [
    {
     "name": "stdout",
     "output_type": "stream",
     "text": [
      "<class 'pandas.core.frame.DataFrame'>\n",
      "RangeIndex: 302 entries, 0 to 301\n",
      "Data columns (total 14 columns):\n",
      " #   Column    Non-Null Count  Dtype  \n",
      "---  ------    --------------  -----  \n",
      " 0   age       302 non-null    float64\n",
      " 1   sex       302 non-null    float64\n",
      " 2   cp        302 non-null    float64\n",
      " 3   trestbps  302 non-null    float64\n",
      " 4   chol      302 non-null    float64\n",
      " 5   fbs       302 non-null    float64\n",
      " 6   restecg   302 non-null    float64\n",
      " 7   thalach   302 non-null    float64\n",
      " 8   exang     302 non-null    float64\n",
      " 9   oldpeak   302 non-null    float64\n",
      " 10  slope     302 non-null    float64\n",
      " 11  ca        302 non-null    object \n",
      " 12  thal      302 non-null    object \n",
      " 13  target    302 non-null    int64  \n",
      "dtypes: float64(11), int64(1), object(2)\n",
      "memory usage: 33.2+ KB\n"
     ]
    }
   ],
   "execution_count": 580
  },
  {
   "metadata": {},
   "cell_type": "markdown",
   "source": "The `ca` and `thal` column are of type `object`, this suggests that there are missing values in these columns. We will check for missing values and deal with them accordingly.",
   "id": "e9ada596b793a28f"
  },
  {
   "metadata": {
    "ExecuteTime": {
     "end_time": "2024-05-25T18:51:37.058268Z",
     "start_time": "2024-05-25T18:51:37.055443Z"
    }
   },
   "cell_type": "code",
   "source": "df['ca'].unique()",
   "id": "a52d5bb718abc103",
   "outputs": [
    {
     "data": {
      "text/plain": [
       "array(['3.0', '2.0', '0.0', '1.0', '?'], dtype=object)"
      ]
     },
     "execution_count": 581,
     "metadata": {},
     "output_type": "execute_result"
    }
   ],
   "execution_count": 581
  },
  {
   "metadata": {
    "ExecuteTime": {
     "end_time": "2024-05-25T18:51:37.061643Z",
     "start_time": "2024-05-25T18:51:37.058944Z"
    }
   },
   "cell_type": "code",
   "source": "df['thal'].unique()",
   "id": "77406f69a8657b99",
   "outputs": [
    {
     "data": {
      "text/plain": [
       "array(['3.0', '7.0', '6.0', '?'], dtype=object)"
      ]
     },
     "execution_count": 582,
     "metadata": {},
     "output_type": "execute_result"
    }
   ],
   "execution_count": 582
  },
  {
   "metadata": {
    "ExecuteTime": {
     "end_time": "2024-05-25T18:51:37.065367Z",
     "start_time": "2024-05-25T18:51:37.062289Z"
    }
   },
   "cell_type": "code",
   "source": "len(df[(df['thal'] == '?') | (df['ca'] == '?')])",
   "id": "99dfa8a50a24dd8f",
   "outputs": [
    {
     "data": {
      "text/plain": [
       "6"
      ]
     },
     "execution_count": 583,
     "metadata": {},
     "output_type": "execute_result"
    }
   ],
   "execution_count": 583
  },
  {
   "metadata": {},
   "cell_type": "markdown",
   "source": "The original dataset has 302 samples (rows). Removing the 6 samples with missing values leaves us with 296 samples, which is still plenty to do our analysis.",
   "id": "a3ab98a2373104bb"
  },
  {
   "metadata": {
    "ExecuteTime": {
     "end_time": "2024-05-25T18:51:37.068337Z",
     "start_time": "2024-05-25T18:51:37.065876Z"
    }
   },
   "cell_type": "code",
   "source": "df_nomissing = df[(df['thal'] != '?') & (df['ca'] != '?')]",
   "id": "1dbed13ad8533b65",
   "outputs": [],
   "execution_count": 584
  },
  {
   "metadata": {
    "ExecuteTime": {
     "end_time": "2024-05-25T18:51:37.073961Z",
     "start_time": "2024-05-25T18:51:37.070694Z"
    }
   },
   "cell_type": "code",
   "source": "df_nomissing['ca'].unique()",
   "id": "adfe607cda5b6f84",
   "outputs": [
    {
     "data": {
      "text/plain": [
       "array(['3.0', '2.0', '0.0', '1.0'], dtype=object)"
      ]
     },
     "execution_count": 585,
     "metadata": {},
     "output_type": "execute_result"
    }
   ],
   "execution_count": 585
  },
  {
   "metadata": {
    "ExecuteTime": {
     "end_time": "2024-05-25T18:51:37.077421Z",
     "start_time": "2024-05-25T18:51:37.074872Z"
    }
   },
   "cell_type": "code",
   "source": "df_nomissing['thal'].unique()",
   "id": "884a37014234293",
   "outputs": [
    {
     "data": {
      "text/plain": [
       "array(['3.0', '7.0', '6.0'], dtype=object)"
      ]
     },
     "execution_count": 586,
     "metadata": {},
     "output_type": "execute_result"
    }
   ],
   "execution_count": 586
  },
  {
   "metadata": {
    "ExecuteTime": {
     "end_time": "2024-05-25T18:51:37.080388Z",
     "start_time": "2024-05-25T18:51:37.078146Z"
    }
   },
   "cell_type": "code",
   "source": "df_nomissing.shape",
   "id": "3eb61e629a4f313c",
   "outputs": [
    {
     "data": {
      "text/plain": [
       "(296, 14)"
      ]
     },
     "execution_count": 587,
     "metadata": {},
     "output_type": "execute_result"
    }
   ],
   "execution_count": 587
  },
  {
   "metadata": {},
   "cell_type": "markdown",
   "source": "Before this data can be used to make predictions on, it needs to be preprocessed. Specifically, One-Hot Encoding will be performed on the non-binary categorical features, afterwards the data wil be scaled. For One-Hot Encoding, `get_dummies()` from Pandas will be used. For scaling, `StandardScaler()` from scikit-learn will be used. Before scaling, the dataset will be split into dependent and independent variables ans split into training and testing sets to avoid data leakage.",
   "id": "825519cf0f097f64"
  },
  {
   "metadata": {
    "ExecuteTime": {
     "end_time": "2024-05-25T18:51:37.091966Z",
     "start_time": "2024-05-25T18:51:37.081055Z"
    }
   },
   "cell_type": "code",
   "source": [
    "# One-Hot Encoding\n",
    "columns_to_encode = ['cp', 'restecg', 'slope', 'thal']\n",
    "df_nomissing_encoded = pd.get_dummies(df_nomissing, columns=columns_to_encode, dtype=int)\n",
    "df_nomissing_encoded.head(5)"
   ],
   "id": "cfd132252344e026",
   "outputs": [
    {
     "data": {
      "text/plain": [
       "    age  sex  trestbps   chol  fbs  thalach  exang  oldpeak   ca  target  ...  \\\n",
       "0  67.0  1.0     160.0  286.0  0.0    108.0    1.0      1.5  3.0       1  ...   \n",
       "1  67.0  1.0     120.0  229.0  0.0    129.0    1.0      2.6  2.0       1  ...   \n",
       "2  37.0  1.0     130.0  250.0  0.0    187.0    0.0      3.5  0.0       0  ...   \n",
       "3  41.0  0.0     130.0  204.0  0.0    172.0    0.0      1.4  0.0       0  ...   \n",
       "4  56.0  1.0     120.0  236.0  0.0    178.0    0.0      0.8  0.0       0  ...   \n",
       "\n",
       "   cp_4.0  restecg_0.0  restecg_1.0  restecg_2.0  slope_1.0  slope_2.0  \\\n",
       "0       1            0            0            1          0          1   \n",
       "1       1            0            0            1          0          1   \n",
       "2       0            1            0            0          0          0   \n",
       "3       0            0            0            1          1          0   \n",
       "4       0            1            0            0          1          0   \n",
       "\n",
       "   slope_3.0  thal_3.0  thal_6.0  thal_7.0  \n",
       "0          0         1         0         0  \n",
       "1          0         0         0         1  \n",
       "2          1         1         0         0  \n",
       "3          0         1         0         0  \n",
       "4          0         1         0         0  \n",
       "\n",
       "[5 rows x 23 columns]"
      ],
      "text/html": [
       "<div>\n",
       "<style scoped>\n",
       "    .dataframe tbody tr th:only-of-type {\n",
       "        vertical-align: middle;\n",
       "    }\n",
       "\n",
       "    .dataframe tbody tr th {\n",
       "        vertical-align: top;\n",
       "    }\n",
       "\n",
       "    .dataframe thead th {\n",
       "        text-align: right;\n",
       "    }\n",
       "</style>\n",
       "<table border=\"1\" class=\"dataframe\">\n",
       "  <thead>\n",
       "    <tr style=\"text-align: right;\">\n",
       "      <th></th>\n",
       "      <th>age</th>\n",
       "      <th>sex</th>\n",
       "      <th>trestbps</th>\n",
       "      <th>chol</th>\n",
       "      <th>fbs</th>\n",
       "      <th>thalach</th>\n",
       "      <th>exang</th>\n",
       "      <th>oldpeak</th>\n",
       "      <th>ca</th>\n",
       "      <th>target</th>\n",
       "      <th>...</th>\n",
       "      <th>cp_4.0</th>\n",
       "      <th>restecg_0.0</th>\n",
       "      <th>restecg_1.0</th>\n",
       "      <th>restecg_2.0</th>\n",
       "      <th>slope_1.0</th>\n",
       "      <th>slope_2.0</th>\n",
       "      <th>slope_3.0</th>\n",
       "      <th>thal_3.0</th>\n",
       "      <th>thal_6.0</th>\n",
       "      <th>thal_7.0</th>\n",
       "    </tr>\n",
       "  </thead>\n",
       "  <tbody>\n",
       "    <tr>\n",
       "      <th>0</th>\n",
       "      <td>67.0</td>\n",
       "      <td>1.0</td>\n",
       "      <td>160.0</td>\n",
       "      <td>286.0</td>\n",
       "      <td>0.0</td>\n",
       "      <td>108.0</td>\n",
       "      <td>1.0</td>\n",
       "      <td>1.5</td>\n",
       "      <td>3.0</td>\n",
       "      <td>1</td>\n",
       "      <td>...</td>\n",
       "      <td>1</td>\n",
       "      <td>0</td>\n",
       "      <td>0</td>\n",
       "      <td>1</td>\n",
       "      <td>0</td>\n",
       "      <td>1</td>\n",
       "      <td>0</td>\n",
       "      <td>1</td>\n",
       "      <td>0</td>\n",
       "      <td>0</td>\n",
       "    </tr>\n",
       "    <tr>\n",
       "      <th>1</th>\n",
       "      <td>67.0</td>\n",
       "      <td>1.0</td>\n",
       "      <td>120.0</td>\n",
       "      <td>229.0</td>\n",
       "      <td>0.0</td>\n",
       "      <td>129.0</td>\n",
       "      <td>1.0</td>\n",
       "      <td>2.6</td>\n",
       "      <td>2.0</td>\n",
       "      <td>1</td>\n",
       "      <td>...</td>\n",
       "      <td>1</td>\n",
       "      <td>0</td>\n",
       "      <td>0</td>\n",
       "      <td>1</td>\n",
       "      <td>0</td>\n",
       "      <td>1</td>\n",
       "      <td>0</td>\n",
       "      <td>0</td>\n",
       "      <td>0</td>\n",
       "      <td>1</td>\n",
       "    </tr>\n",
       "    <tr>\n",
       "      <th>2</th>\n",
       "      <td>37.0</td>\n",
       "      <td>1.0</td>\n",
       "      <td>130.0</td>\n",
       "      <td>250.0</td>\n",
       "      <td>0.0</td>\n",
       "      <td>187.0</td>\n",
       "      <td>0.0</td>\n",
       "      <td>3.5</td>\n",
       "      <td>0.0</td>\n",
       "      <td>0</td>\n",
       "      <td>...</td>\n",
       "      <td>0</td>\n",
       "      <td>1</td>\n",
       "      <td>0</td>\n",
       "      <td>0</td>\n",
       "      <td>0</td>\n",
       "      <td>0</td>\n",
       "      <td>1</td>\n",
       "      <td>1</td>\n",
       "      <td>0</td>\n",
       "      <td>0</td>\n",
       "    </tr>\n",
       "    <tr>\n",
       "      <th>3</th>\n",
       "      <td>41.0</td>\n",
       "      <td>0.0</td>\n",
       "      <td>130.0</td>\n",
       "      <td>204.0</td>\n",
       "      <td>0.0</td>\n",
       "      <td>172.0</td>\n",
       "      <td>0.0</td>\n",
       "      <td>1.4</td>\n",
       "      <td>0.0</td>\n",
       "      <td>0</td>\n",
       "      <td>...</td>\n",
       "      <td>0</td>\n",
       "      <td>0</td>\n",
       "      <td>0</td>\n",
       "      <td>1</td>\n",
       "      <td>1</td>\n",
       "      <td>0</td>\n",
       "      <td>0</td>\n",
       "      <td>1</td>\n",
       "      <td>0</td>\n",
       "      <td>0</td>\n",
       "    </tr>\n",
       "    <tr>\n",
       "      <th>4</th>\n",
       "      <td>56.0</td>\n",
       "      <td>1.0</td>\n",
       "      <td>120.0</td>\n",
       "      <td>236.0</td>\n",
       "      <td>0.0</td>\n",
       "      <td>178.0</td>\n",
       "      <td>0.0</td>\n",
       "      <td>0.8</td>\n",
       "      <td>0.0</td>\n",
       "      <td>0</td>\n",
       "      <td>...</td>\n",
       "      <td>0</td>\n",
       "      <td>1</td>\n",
       "      <td>0</td>\n",
       "      <td>0</td>\n",
       "      <td>1</td>\n",
       "      <td>0</td>\n",
       "      <td>0</td>\n",
       "      <td>1</td>\n",
       "      <td>0</td>\n",
       "      <td>0</td>\n",
       "    </tr>\n",
       "  </tbody>\n",
       "</table>\n",
       "<p>5 rows × 23 columns</p>\n",
       "</div>"
      ]
     },
     "execution_count": 588,
     "metadata": {},
     "output_type": "execute_result"
    }
   ],
   "execution_count": 588
  },
  {
   "metadata": {
    "ExecuteTime": {
     "end_time": "2024-05-25T18:51:37.095087Z",
     "start_time": "2024-05-25T18:51:37.092634Z"
    }
   },
   "cell_type": "code",
   "source": "df_nomissing_encoded.shape",
   "id": "77b73757d18b064b",
   "outputs": [
    {
     "data": {
      "text/plain": [
       "(296, 23)"
      ]
     },
     "execution_count": 589,
     "metadata": {},
     "output_type": "execute_result"
    }
   ],
   "execution_count": 589
  },
  {
   "metadata": {
    "ExecuteTime": {
     "end_time": "2024-05-25T18:51:37.107361Z",
     "start_time": "2024-05-25T18:51:37.104970Z"
    }
   },
   "cell_type": "code",
   "source": [
    "# Splitting data into dependent and independent variables\n",
    "X = df_nomissing_encoded.drop('target', axis=1)\n",
    "y = df_nomissing_encoded['target']"
   ],
   "id": "3b50ca5fe3fb839",
   "outputs": [],
   "execution_count": 590
  },
  {
   "metadata": {
    "ExecuteTime": {
     "end_time": "2024-05-25T18:51:37.211025Z",
     "start_time": "2024-05-25T18:51:37.201138Z"
    }
   },
   "cell_type": "code",
   "source": "X.head(5)",
   "id": "b2fa6c6b2945e5dd",
   "outputs": [
    {
     "data": {
      "text/plain": [
       "    age  sex  trestbps   chol  fbs  thalach  exang  oldpeak   ca  cp_1.0  ...  \\\n",
       "0  67.0  1.0     160.0  286.0  0.0    108.0    1.0      1.5  3.0       0  ...   \n",
       "1  67.0  1.0     120.0  229.0  0.0    129.0    1.0      2.6  2.0       0  ...   \n",
       "2  37.0  1.0     130.0  250.0  0.0    187.0    0.0      3.5  0.0       0  ...   \n",
       "3  41.0  0.0     130.0  204.0  0.0    172.0    0.0      1.4  0.0       0  ...   \n",
       "4  56.0  1.0     120.0  236.0  0.0    178.0    0.0      0.8  0.0       0  ...   \n",
       "\n",
       "   cp_4.0  restecg_0.0  restecg_1.0  restecg_2.0  slope_1.0  slope_2.0  \\\n",
       "0       1            0            0            1          0          1   \n",
       "1       1            0            0            1          0          1   \n",
       "2       0            1            0            0          0          0   \n",
       "3       0            0            0            1          1          0   \n",
       "4       0            1            0            0          1          0   \n",
       "\n",
       "   slope_3.0  thal_3.0  thal_6.0  thal_7.0  \n",
       "0          0         1         0         0  \n",
       "1          0         0         0         1  \n",
       "2          1         1         0         0  \n",
       "3          0         1         0         0  \n",
       "4          0         1         0         0  \n",
       "\n",
       "[5 rows x 22 columns]"
      ],
      "text/html": [
       "<div>\n",
       "<style scoped>\n",
       "    .dataframe tbody tr th:only-of-type {\n",
       "        vertical-align: middle;\n",
       "    }\n",
       "\n",
       "    .dataframe tbody tr th {\n",
       "        vertical-align: top;\n",
       "    }\n",
       "\n",
       "    .dataframe thead th {\n",
       "        text-align: right;\n",
       "    }\n",
       "</style>\n",
       "<table border=\"1\" class=\"dataframe\">\n",
       "  <thead>\n",
       "    <tr style=\"text-align: right;\">\n",
       "      <th></th>\n",
       "      <th>age</th>\n",
       "      <th>sex</th>\n",
       "      <th>trestbps</th>\n",
       "      <th>chol</th>\n",
       "      <th>fbs</th>\n",
       "      <th>thalach</th>\n",
       "      <th>exang</th>\n",
       "      <th>oldpeak</th>\n",
       "      <th>ca</th>\n",
       "      <th>cp_1.0</th>\n",
       "      <th>...</th>\n",
       "      <th>cp_4.0</th>\n",
       "      <th>restecg_0.0</th>\n",
       "      <th>restecg_1.0</th>\n",
       "      <th>restecg_2.0</th>\n",
       "      <th>slope_1.0</th>\n",
       "      <th>slope_2.0</th>\n",
       "      <th>slope_3.0</th>\n",
       "      <th>thal_3.0</th>\n",
       "      <th>thal_6.0</th>\n",
       "      <th>thal_7.0</th>\n",
       "    </tr>\n",
       "  </thead>\n",
       "  <tbody>\n",
       "    <tr>\n",
       "      <th>0</th>\n",
       "      <td>67.0</td>\n",
       "      <td>1.0</td>\n",
       "      <td>160.0</td>\n",
       "      <td>286.0</td>\n",
       "      <td>0.0</td>\n",
       "      <td>108.0</td>\n",
       "      <td>1.0</td>\n",
       "      <td>1.5</td>\n",
       "      <td>3.0</td>\n",
       "      <td>0</td>\n",
       "      <td>...</td>\n",
       "      <td>1</td>\n",
       "      <td>0</td>\n",
       "      <td>0</td>\n",
       "      <td>1</td>\n",
       "      <td>0</td>\n",
       "      <td>1</td>\n",
       "      <td>0</td>\n",
       "      <td>1</td>\n",
       "      <td>0</td>\n",
       "      <td>0</td>\n",
       "    </tr>\n",
       "    <tr>\n",
       "      <th>1</th>\n",
       "      <td>67.0</td>\n",
       "      <td>1.0</td>\n",
       "      <td>120.0</td>\n",
       "      <td>229.0</td>\n",
       "      <td>0.0</td>\n",
       "      <td>129.0</td>\n",
       "      <td>1.0</td>\n",
       "      <td>2.6</td>\n",
       "      <td>2.0</td>\n",
       "      <td>0</td>\n",
       "      <td>...</td>\n",
       "      <td>1</td>\n",
       "      <td>0</td>\n",
       "      <td>0</td>\n",
       "      <td>1</td>\n",
       "      <td>0</td>\n",
       "      <td>1</td>\n",
       "      <td>0</td>\n",
       "      <td>0</td>\n",
       "      <td>0</td>\n",
       "      <td>1</td>\n",
       "    </tr>\n",
       "    <tr>\n",
       "      <th>2</th>\n",
       "      <td>37.0</td>\n",
       "      <td>1.0</td>\n",
       "      <td>130.0</td>\n",
       "      <td>250.0</td>\n",
       "      <td>0.0</td>\n",
       "      <td>187.0</td>\n",
       "      <td>0.0</td>\n",
       "      <td>3.5</td>\n",
       "      <td>0.0</td>\n",
       "      <td>0</td>\n",
       "      <td>...</td>\n",
       "      <td>0</td>\n",
       "      <td>1</td>\n",
       "      <td>0</td>\n",
       "      <td>0</td>\n",
       "      <td>0</td>\n",
       "      <td>0</td>\n",
       "      <td>1</td>\n",
       "      <td>1</td>\n",
       "      <td>0</td>\n",
       "      <td>0</td>\n",
       "    </tr>\n",
       "    <tr>\n",
       "      <th>3</th>\n",
       "      <td>41.0</td>\n",
       "      <td>0.0</td>\n",
       "      <td>130.0</td>\n",
       "      <td>204.0</td>\n",
       "      <td>0.0</td>\n",
       "      <td>172.0</td>\n",
       "      <td>0.0</td>\n",
       "      <td>1.4</td>\n",
       "      <td>0.0</td>\n",
       "      <td>0</td>\n",
       "      <td>...</td>\n",
       "      <td>0</td>\n",
       "      <td>0</td>\n",
       "      <td>0</td>\n",
       "      <td>1</td>\n",
       "      <td>1</td>\n",
       "      <td>0</td>\n",
       "      <td>0</td>\n",
       "      <td>1</td>\n",
       "      <td>0</td>\n",
       "      <td>0</td>\n",
       "    </tr>\n",
       "    <tr>\n",
       "      <th>4</th>\n",
       "      <td>56.0</td>\n",
       "      <td>1.0</td>\n",
       "      <td>120.0</td>\n",
       "      <td>236.0</td>\n",
       "      <td>0.0</td>\n",
       "      <td>178.0</td>\n",
       "      <td>0.0</td>\n",
       "      <td>0.8</td>\n",
       "      <td>0.0</td>\n",
       "      <td>0</td>\n",
       "      <td>...</td>\n",
       "      <td>0</td>\n",
       "      <td>1</td>\n",
       "      <td>0</td>\n",
       "      <td>0</td>\n",
       "      <td>1</td>\n",
       "      <td>0</td>\n",
       "      <td>0</td>\n",
       "      <td>1</td>\n",
       "      <td>0</td>\n",
       "      <td>0</td>\n",
       "    </tr>\n",
       "  </tbody>\n",
       "</table>\n",
       "<p>5 rows × 22 columns</p>\n",
       "</div>"
      ]
     },
     "execution_count": 591,
     "metadata": {},
     "output_type": "execute_result"
    }
   ],
   "execution_count": 591
  },
  {
   "metadata": {
    "ExecuteTime": {
     "end_time": "2024-05-25T18:51:37.505505Z",
     "start_time": "2024-05-25T18:51:37.502644Z"
    }
   },
   "cell_type": "code",
   "source": "y.head()",
   "id": "2119e28d0d95e20d",
   "outputs": [
    {
     "data": {
      "text/plain": [
       "0    1\n",
       "1    1\n",
       "2    0\n",
       "3    0\n",
       "4    0\n",
       "Name: target, dtype: int64"
      ]
     },
     "execution_count": 592,
     "metadata": {},
     "output_type": "execute_result"
    }
   ],
   "execution_count": 592
  },
  {
   "metadata": {
    "ExecuteTime": {
     "end_time": "2024-05-25T18:51:37.552Z",
     "start_time": "2024-05-25T18:51:37.548375Z"
    }
   },
   "cell_type": "code",
   "source": [
    "# Creating training and testing sets\n",
    "X_train, X_test, y_train, y_test = train_test_split(X, y, test_size=0.25, random_state=42)\n",
    "print(f\"X_train shape: {X_train.shape}\\nX_test shape: {X_test.shape}\\ny_train shape: {y_train.shape}\\ny_test shape: {y_test.shape}\")"
   ],
   "id": "dcef46e8deea2954",
   "outputs": [
    {
     "name": "stdout",
     "output_type": "stream",
     "text": [
      "X_train shape: (222, 22)\n",
      "X_test shape: (74, 22)\n",
      "y_train shape: (222,)\n",
      "y_test shape: (74,)\n"
     ]
    }
   ],
   "execution_count": 593
  },
  {
   "metadata": {
    "ExecuteTime": {
     "end_time": "2024-05-25T18:51:37.702945Z",
     "start_time": "2024-05-25T18:51:37.696862Z"
    }
   },
   "cell_type": "code",
   "source": [
    "# Standardizing the data\n",
    "scaler = StandardScaler()\n",
    "columns_to_scale = ['age', 'trestbps', 'chol', 'thalach', 'oldpeak']\n",
    "X_train[columns_to_scale] = scaler.fit_transform(X_train[columns_to_scale])\n",
    "X_test[columns_to_scale] = scaler.transform(X_test[columns_to_scale])"
   ],
   "id": "8e5f5d3f236e46cd",
   "outputs": [],
   "execution_count": 594
  },
  {
   "metadata": {
    "ExecuteTime": {
     "end_time": "2024-05-25T18:51:37.768128Z",
     "start_time": "2024-05-25T18:51:37.743713Z"
    }
   },
   "cell_type": "code",
   "source": "round(X_train.describe())",
   "id": "2bce5d62ad85ab69",
   "outputs": [
    {
     "data": {
      "text/plain": [
       "         age    sex  trestbps   chol    fbs  thalach  exang  oldpeak  cp_1.0  \\\n",
       "count  222.0  222.0     222.0  222.0  222.0    222.0  222.0    222.0   222.0   \n",
       "mean    -0.0    1.0      -0.0   -0.0    0.0     -0.0    0.0      0.0     0.0   \n",
       "std      1.0    0.0       1.0    1.0    0.0      1.0    0.0      1.0     0.0   \n",
       "min     -3.0    0.0      -2.0   -2.0    0.0     -3.0    0.0     -1.0     0.0   \n",
       "25%     -1.0    0.0      -1.0   -1.0    0.0     -1.0    0.0     -1.0     0.0   \n",
       "50%      0.0    1.0      -0.0   -0.0    0.0      0.0    0.0     -0.0     0.0   \n",
       "75%      1.0    1.0       0.0    1.0    0.0      1.0    1.0      0.0     0.0   \n",
       "max      2.0    1.0       3.0    6.0    1.0      2.0    1.0      4.0     1.0   \n",
       "\n",
       "       cp_2.0  ...  cp_4.0  restecg_0.0  restecg_1.0  restecg_2.0  slope_1.0  \\\n",
       "count   222.0  ...   222.0        222.0        222.0        222.0      222.0   \n",
       "mean      0.0  ...     0.0          1.0          0.0          0.0        0.0   \n",
       "std       0.0  ...     1.0          1.0          0.0          1.0        0.0   \n",
       "min       0.0  ...     0.0          0.0          0.0          0.0        0.0   \n",
       "25%       0.0  ...     0.0          0.0          0.0          0.0        0.0   \n",
       "50%       0.0  ...     0.0          1.0          0.0          0.0        0.0   \n",
       "75%       0.0  ...     1.0          1.0          0.0          1.0        1.0   \n",
       "max       1.0  ...     1.0          1.0          1.0          1.0        1.0   \n",
       "\n",
       "       slope_2.0  slope_3.0  thal_3.0  thal_6.0  thal_7.0  \n",
       "count      222.0      222.0     222.0     222.0     222.0  \n",
       "mean         0.0        0.0       1.0       0.0       0.0  \n",
       "std          1.0        0.0       0.0       0.0       0.0  \n",
       "min          0.0        0.0       0.0       0.0       0.0  \n",
       "25%          0.0        0.0       0.0       0.0       0.0  \n",
       "50%          0.0        0.0       1.0       0.0       0.0  \n",
       "75%          1.0        0.0       1.0       0.0       1.0  \n",
       "max          1.0        1.0       1.0       1.0       1.0  \n",
       "\n",
       "[8 rows x 21 columns]"
      ],
      "text/html": [
       "<div>\n",
       "<style scoped>\n",
       "    .dataframe tbody tr th:only-of-type {\n",
       "        vertical-align: middle;\n",
       "    }\n",
       "\n",
       "    .dataframe tbody tr th {\n",
       "        vertical-align: top;\n",
       "    }\n",
       "\n",
       "    .dataframe thead th {\n",
       "        text-align: right;\n",
       "    }\n",
       "</style>\n",
       "<table border=\"1\" class=\"dataframe\">\n",
       "  <thead>\n",
       "    <tr style=\"text-align: right;\">\n",
       "      <th></th>\n",
       "      <th>age</th>\n",
       "      <th>sex</th>\n",
       "      <th>trestbps</th>\n",
       "      <th>chol</th>\n",
       "      <th>fbs</th>\n",
       "      <th>thalach</th>\n",
       "      <th>exang</th>\n",
       "      <th>oldpeak</th>\n",
       "      <th>cp_1.0</th>\n",
       "      <th>cp_2.0</th>\n",
       "      <th>...</th>\n",
       "      <th>cp_4.0</th>\n",
       "      <th>restecg_0.0</th>\n",
       "      <th>restecg_1.0</th>\n",
       "      <th>restecg_2.0</th>\n",
       "      <th>slope_1.0</th>\n",
       "      <th>slope_2.0</th>\n",
       "      <th>slope_3.0</th>\n",
       "      <th>thal_3.0</th>\n",
       "      <th>thal_6.0</th>\n",
       "      <th>thal_7.0</th>\n",
       "    </tr>\n",
       "  </thead>\n",
       "  <tbody>\n",
       "    <tr>\n",
       "      <th>count</th>\n",
       "      <td>222.0</td>\n",
       "      <td>222.0</td>\n",
       "      <td>222.0</td>\n",
       "      <td>222.0</td>\n",
       "      <td>222.0</td>\n",
       "      <td>222.0</td>\n",
       "      <td>222.0</td>\n",
       "      <td>222.0</td>\n",
       "      <td>222.0</td>\n",
       "      <td>222.0</td>\n",
       "      <td>...</td>\n",
       "      <td>222.0</td>\n",
       "      <td>222.0</td>\n",
       "      <td>222.0</td>\n",
       "      <td>222.0</td>\n",
       "      <td>222.0</td>\n",
       "      <td>222.0</td>\n",
       "      <td>222.0</td>\n",
       "      <td>222.0</td>\n",
       "      <td>222.0</td>\n",
       "      <td>222.0</td>\n",
       "    </tr>\n",
       "    <tr>\n",
       "      <th>mean</th>\n",
       "      <td>-0.0</td>\n",
       "      <td>1.0</td>\n",
       "      <td>-0.0</td>\n",
       "      <td>-0.0</td>\n",
       "      <td>0.0</td>\n",
       "      <td>-0.0</td>\n",
       "      <td>0.0</td>\n",
       "      <td>0.0</td>\n",
       "      <td>0.0</td>\n",
       "      <td>0.0</td>\n",
       "      <td>...</td>\n",
       "      <td>0.0</td>\n",
       "      <td>1.0</td>\n",
       "      <td>0.0</td>\n",
       "      <td>0.0</td>\n",
       "      <td>0.0</td>\n",
       "      <td>0.0</td>\n",
       "      <td>0.0</td>\n",
       "      <td>1.0</td>\n",
       "      <td>0.0</td>\n",
       "      <td>0.0</td>\n",
       "    </tr>\n",
       "    <tr>\n",
       "      <th>std</th>\n",
       "      <td>1.0</td>\n",
       "      <td>0.0</td>\n",
       "      <td>1.0</td>\n",
       "      <td>1.0</td>\n",
       "      <td>0.0</td>\n",
       "      <td>1.0</td>\n",
       "      <td>0.0</td>\n",
       "      <td>1.0</td>\n",
       "      <td>0.0</td>\n",
       "      <td>0.0</td>\n",
       "      <td>...</td>\n",
       "      <td>1.0</td>\n",
       "      <td>1.0</td>\n",
       "      <td>0.0</td>\n",
       "      <td>1.0</td>\n",
       "      <td>0.0</td>\n",
       "      <td>1.0</td>\n",
       "      <td>0.0</td>\n",
       "      <td>0.0</td>\n",
       "      <td>0.0</td>\n",
       "      <td>0.0</td>\n",
       "    </tr>\n",
       "    <tr>\n",
       "      <th>min</th>\n",
       "      <td>-3.0</td>\n",
       "      <td>0.0</td>\n",
       "      <td>-2.0</td>\n",
       "      <td>-2.0</td>\n",
       "      <td>0.0</td>\n",
       "      <td>-3.0</td>\n",
       "      <td>0.0</td>\n",
       "      <td>-1.0</td>\n",
       "      <td>0.0</td>\n",
       "      <td>0.0</td>\n",
       "      <td>...</td>\n",
       "      <td>0.0</td>\n",
       "      <td>0.0</td>\n",
       "      <td>0.0</td>\n",
       "      <td>0.0</td>\n",
       "      <td>0.0</td>\n",
       "      <td>0.0</td>\n",
       "      <td>0.0</td>\n",
       "      <td>0.0</td>\n",
       "      <td>0.0</td>\n",
       "      <td>0.0</td>\n",
       "    </tr>\n",
       "    <tr>\n",
       "      <th>25%</th>\n",
       "      <td>-1.0</td>\n",
       "      <td>0.0</td>\n",
       "      <td>-1.0</td>\n",
       "      <td>-1.0</td>\n",
       "      <td>0.0</td>\n",
       "      <td>-1.0</td>\n",
       "      <td>0.0</td>\n",
       "      <td>-1.0</td>\n",
       "      <td>0.0</td>\n",
       "      <td>0.0</td>\n",
       "      <td>...</td>\n",
       "      <td>0.0</td>\n",
       "      <td>0.0</td>\n",
       "      <td>0.0</td>\n",
       "      <td>0.0</td>\n",
       "      <td>0.0</td>\n",
       "      <td>0.0</td>\n",
       "      <td>0.0</td>\n",
       "      <td>0.0</td>\n",
       "      <td>0.0</td>\n",
       "      <td>0.0</td>\n",
       "    </tr>\n",
       "    <tr>\n",
       "      <th>50%</th>\n",
       "      <td>0.0</td>\n",
       "      <td>1.0</td>\n",
       "      <td>-0.0</td>\n",
       "      <td>-0.0</td>\n",
       "      <td>0.0</td>\n",
       "      <td>0.0</td>\n",
       "      <td>0.0</td>\n",
       "      <td>-0.0</td>\n",
       "      <td>0.0</td>\n",
       "      <td>0.0</td>\n",
       "      <td>...</td>\n",
       "      <td>0.0</td>\n",
       "      <td>1.0</td>\n",
       "      <td>0.0</td>\n",
       "      <td>0.0</td>\n",
       "      <td>0.0</td>\n",
       "      <td>0.0</td>\n",
       "      <td>0.0</td>\n",
       "      <td>1.0</td>\n",
       "      <td>0.0</td>\n",
       "      <td>0.0</td>\n",
       "    </tr>\n",
       "    <tr>\n",
       "      <th>75%</th>\n",
       "      <td>1.0</td>\n",
       "      <td>1.0</td>\n",
       "      <td>0.0</td>\n",
       "      <td>1.0</td>\n",
       "      <td>0.0</td>\n",
       "      <td>1.0</td>\n",
       "      <td>1.0</td>\n",
       "      <td>0.0</td>\n",
       "      <td>0.0</td>\n",
       "      <td>0.0</td>\n",
       "      <td>...</td>\n",
       "      <td>1.0</td>\n",
       "      <td>1.0</td>\n",
       "      <td>0.0</td>\n",
       "      <td>1.0</td>\n",
       "      <td>1.0</td>\n",
       "      <td>1.0</td>\n",
       "      <td>0.0</td>\n",
       "      <td>1.0</td>\n",
       "      <td>0.0</td>\n",
       "      <td>1.0</td>\n",
       "    </tr>\n",
       "    <tr>\n",
       "      <th>max</th>\n",
       "      <td>2.0</td>\n",
       "      <td>1.0</td>\n",
       "      <td>3.0</td>\n",
       "      <td>6.0</td>\n",
       "      <td>1.0</td>\n",
       "      <td>2.0</td>\n",
       "      <td>1.0</td>\n",
       "      <td>4.0</td>\n",
       "      <td>1.0</td>\n",
       "      <td>1.0</td>\n",
       "      <td>...</td>\n",
       "      <td>1.0</td>\n",
       "      <td>1.0</td>\n",
       "      <td>1.0</td>\n",
       "      <td>1.0</td>\n",
       "      <td>1.0</td>\n",
       "      <td>1.0</td>\n",
       "      <td>1.0</td>\n",
       "      <td>1.0</td>\n",
       "      <td>1.0</td>\n",
       "      <td>1.0</td>\n",
       "    </tr>\n",
       "  </tbody>\n",
       "</table>\n",
       "<p>8 rows × 21 columns</p>\n",
       "</div>"
      ]
     },
     "execution_count": 595,
     "metadata": {},
     "output_type": "execute_result"
    }
   ],
   "execution_count": 595
  },
  {
   "metadata": {
    "ExecuteTime": {
     "end_time": "2024-05-25T18:51:37.844548Z",
     "start_time": "2024-05-25T18:51:37.819878Z"
    }
   },
   "cell_type": "code",
   "source": "round(X_test.describe())",
   "id": "8b9a7aadc2d6e32d",
   "outputs": [
    {
     "data": {
      "text/plain": [
       "        age   sex  trestbps  chol   fbs  thalach  exang  oldpeak  cp_1.0  \\\n",
       "count  74.0  74.0      74.0  74.0  74.0     74.0   74.0     74.0    74.0   \n",
       "mean   -0.0   1.0       0.0   0.0   0.0      0.0    0.0     -0.0     0.0   \n",
       "std     1.0   0.0       1.0   1.0   0.0      1.0    0.0      1.0     0.0   \n",
       "min    -2.0   0.0      -2.0  -2.0   0.0     -2.0    0.0     -1.0     0.0   \n",
       "25%    -1.0   0.0      -1.0  -1.0   0.0     -0.0    0.0     -1.0     0.0   \n",
       "50%    -0.0   1.0      -0.0  -0.0   0.0      0.0    0.0     -0.0     0.0   \n",
       "75%     0.0   1.0       0.0   1.0   0.0      1.0    1.0      1.0     0.0   \n",
       "max     2.0   1.0       4.0   3.0   1.0      2.0    1.0      2.0     1.0   \n",
       "\n",
       "       cp_2.0  ...  cp_4.0  restecg_0.0  restecg_1.0  restecg_2.0  slope_1.0  \\\n",
       "count    74.0  ...    74.0         74.0         74.0         74.0       74.0   \n",
       "mean      0.0  ...     0.0          0.0          0.0          1.0        0.0   \n",
       "std       0.0  ...     1.0          1.0          0.0          1.0        1.0   \n",
       "min       0.0  ...     0.0          0.0          0.0          0.0        0.0   \n",
       "25%       0.0  ...     0.0          0.0          0.0          0.0        0.0   \n",
       "50%       0.0  ...     0.0          0.0          0.0          1.0        0.0   \n",
       "75%       0.0  ...     1.0          1.0          0.0          1.0        1.0   \n",
       "max       1.0  ...     1.0          1.0          1.0          1.0        1.0   \n",
       "\n",
       "       slope_2.0  slope_3.0  thal_3.0  thal_6.0  thal_7.0  \n",
       "count       74.0       74.0      74.0      74.0      74.0  \n",
       "mean         0.0        0.0       1.0       0.0       0.0  \n",
       "std          0.0        0.0       1.0       0.0       0.0  \n",
       "min          0.0        0.0       0.0       0.0       0.0  \n",
       "25%          0.0        0.0       0.0       0.0       0.0  \n",
       "50%          0.0        0.0       1.0       0.0       0.0  \n",
       "75%          1.0        0.0       1.0       0.0       1.0  \n",
       "max          1.0        1.0       1.0       1.0       1.0  \n",
       "\n",
       "[8 rows x 21 columns]"
      ],
      "text/html": [
       "<div>\n",
       "<style scoped>\n",
       "    .dataframe tbody tr th:only-of-type {\n",
       "        vertical-align: middle;\n",
       "    }\n",
       "\n",
       "    .dataframe tbody tr th {\n",
       "        vertical-align: top;\n",
       "    }\n",
       "\n",
       "    .dataframe thead th {\n",
       "        text-align: right;\n",
       "    }\n",
       "</style>\n",
       "<table border=\"1\" class=\"dataframe\">\n",
       "  <thead>\n",
       "    <tr style=\"text-align: right;\">\n",
       "      <th></th>\n",
       "      <th>age</th>\n",
       "      <th>sex</th>\n",
       "      <th>trestbps</th>\n",
       "      <th>chol</th>\n",
       "      <th>fbs</th>\n",
       "      <th>thalach</th>\n",
       "      <th>exang</th>\n",
       "      <th>oldpeak</th>\n",
       "      <th>cp_1.0</th>\n",
       "      <th>cp_2.0</th>\n",
       "      <th>...</th>\n",
       "      <th>cp_4.0</th>\n",
       "      <th>restecg_0.0</th>\n",
       "      <th>restecg_1.0</th>\n",
       "      <th>restecg_2.0</th>\n",
       "      <th>slope_1.0</th>\n",
       "      <th>slope_2.0</th>\n",
       "      <th>slope_3.0</th>\n",
       "      <th>thal_3.0</th>\n",
       "      <th>thal_6.0</th>\n",
       "      <th>thal_7.0</th>\n",
       "    </tr>\n",
       "  </thead>\n",
       "  <tbody>\n",
       "    <tr>\n",
       "      <th>count</th>\n",
       "      <td>74.0</td>\n",
       "      <td>74.0</td>\n",
       "      <td>74.0</td>\n",
       "      <td>74.0</td>\n",
       "      <td>74.0</td>\n",
       "      <td>74.0</td>\n",
       "      <td>74.0</td>\n",
       "      <td>74.0</td>\n",
       "      <td>74.0</td>\n",
       "      <td>74.0</td>\n",
       "      <td>...</td>\n",
       "      <td>74.0</td>\n",
       "      <td>74.0</td>\n",
       "      <td>74.0</td>\n",
       "      <td>74.0</td>\n",
       "      <td>74.0</td>\n",
       "      <td>74.0</td>\n",
       "      <td>74.0</td>\n",
       "      <td>74.0</td>\n",
       "      <td>74.0</td>\n",
       "      <td>74.0</td>\n",
       "    </tr>\n",
       "    <tr>\n",
       "      <th>mean</th>\n",
       "      <td>-0.0</td>\n",
       "      <td>1.0</td>\n",
       "      <td>0.0</td>\n",
       "      <td>0.0</td>\n",
       "      <td>0.0</td>\n",
       "      <td>0.0</td>\n",
       "      <td>0.0</td>\n",
       "      <td>-0.0</td>\n",
       "      <td>0.0</td>\n",
       "      <td>0.0</td>\n",
       "      <td>...</td>\n",
       "      <td>0.0</td>\n",
       "      <td>0.0</td>\n",
       "      <td>0.0</td>\n",
       "      <td>1.0</td>\n",
       "      <td>0.0</td>\n",
       "      <td>0.0</td>\n",
       "      <td>0.0</td>\n",
       "      <td>1.0</td>\n",
       "      <td>0.0</td>\n",
       "      <td>0.0</td>\n",
       "    </tr>\n",
       "    <tr>\n",
       "      <th>std</th>\n",
       "      <td>1.0</td>\n",
       "      <td>0.0</td>\n",
       "      <td>1.0</td>\n",
       "      <td>1.0</td>\n",
       "      <td>0.0</td>\n",
       "      <td>1.0</td>\n",
       "      <td>0.0</td>\n",
       "      <td>1.0</td>\n",
       "      <td>0.0</td>\n",
       "      <td>0.0</td>\n",
       "      <td>...</td>\n",
       "      <td>1.0</td>\n",
       "      <td>1.0</td>\n",
       "      <td>0.0</td>\n",
       "      <td>1.0</td>\n",
       "      <td>1.0</td>\n",
       "      <td>0.0</td>\n",
       "      <td>0.0</td>\n",
       "      <td>1.0</td>\n",
       "      <td>0.0</td>\n",
       "      <td>0.0</td>\n",
       "    </tr>\n",
       "    <tr>\n",
       "      <th>min</th>\n",
       "      <td>-2.0</td>\n",
       "      <td>0.0</td>\n",
       "      <td>-2.0</td>\n",
       "      <td>-2.0</td>\n",
       "      <td>0.0</td>\n",
       "      <td>-2.0</td>\n",
       "      <td>0.0</td>\n",
       "      <td>-1.0</td>\n",
       "      <td>0.0</td>\n",
       "      <td>0.0</td>\n",
       "      <td>...</td>\n",
       "      <td>0.0</td>\n",
       "      <td>0.0</td>\n",
       "      <td>0.0</td>\n",
       "      <td>0.0</td>\n",
       "      <td>0.0</td>\n",
       "      <td>0.0</td>\n",
       "      <td>0.0</td>\n",
       "      <td>0.0</td>\n",
       "      <td>0.0</td>\n",
       "      <td>0.0</td>\n",
       "    </tr>\n",
       "    <tr>\n",
       "      <th>25%</th>\n",
       "      <td>-1.0</td>\n",
       "      <td>0.0</td>\n",
       "      <td>-1.0</td>\n",
       "      <td>-1.0</td>\n",
       "      <td>0.0</td>\n",
       "      <td>-0.0</td>\n",
       "      <td>0.0</td>\n",
       "      <td>-1.0</td>\n",
       "      <td>0.0</td>\n",
       "      <td>0.0</td>\n",
       "      <td>...</td>\n",
       "      <td>0.0</td>\n",
       "      <td>0.0</td>\n",
       "      <td>0.0</td>\n",
       "      <td>0.0</td>\n",
       "      <td>0.0</td>\n",
       "      <td>0.0</td>\n",
       "      <td>0.0</td>\n",
       "      <td>0.0</td>\n",
       "      <td>0.0</td>\n",
       "      <td>0.0</td>\n",
       "    </tr>\n",
       "    <tr>\n",
       "      <th>50%</th>\n",
       "      <td>-0.0</td>\n",
       "      <td>1.0</td>\n",
       "      <td>-0.0</td>\n",
       "      <td>-0.0</td>\n",
       "      <td>0.0</td>\n",
       "      <td>0.0</td>\n",
       "      <td>0.0</td>\n",
       "      <td>-0.0</td>\n",
       "      <td>0.0</td>\n",
       "      <td>0.0</td>\n",
       "      <td>...</td>\n",
       "      <td>0.0</td>\n",
       "      <td>0.0</td>\n",
       "      <td>0.0</td>\n",
       "      <td>1.0</td>\n",
       "      <td>0.0</td>\n",
       "      <td>0.0</td>\n",
       "      <td>0.0</td>\n",
       "      <td>1.0</td>\n",
       "      <td>0.0</td>\n",
       "      <td>0.0</td>\n",
       "    </tr>\n",
       "    <tr>\n",
       "      <th>75%</th>\n",
       "      <td>0.0</td>\n",
       "      <td>1.0</td>\n",
       "      <td>0.0</td>\n",
       "      <td>1.0</td>\n",
       "      <td>0.0</td>\n",
       "      <td>1.0</td>\n",
       "      <td>1.0</td>\n",
       "      <td>1.0</td>\n",
       "      <td>0.0</td>\n",
       "      <td>0.0</td>\n",
       "      <td>...</td>\n",
       "      <td>1.0</td>\n",
       "      <td>1.0</td>\n",
       "      <td>0.0</td>\n",
       "      <td>1.0</td>\n",
       "      <td>1.0</td>\n",
       "      <td>1.0</td>\n",
       "      <td>0.0</td>\n",
       "      <td>1.0</td>\n",
       "      <td>0.0</td>\n",
       "      <td>1.0</td>\n",
       "    </tr>\n",
       "    <tr>\n",
       "      <th>max</th>\n",
       "      <td>2.0</td>\n",
       "      <td>1.0</td>\n",
       "      <td>4.0</td>\n",
       "      <td>3.0</td>\n",
       "      <td>1.0</td>\n",
       "      <td>2.0</td>\n",
       "      <td>1.0</td>\n",
       "      <td>2.0</td>\n",
       "      <td>1.0</td>\n",
       "      <td>1.0</td>\n",
       "      <td>...</td>\n",
       "      <td>1.0</td>\n",
       "      <td>1.0</td>\n",
       "      <td>1.0</td>\n",
       "      <td>1.0</td>\n",
       "      <td>1.0</td>\n",
       "      <td>1.0</td>\n",
       "      <td>1.0</td>\n",
       "      <td>1.0</td>\n",
       "      <td>1.0</td>\n",
       "      <td>1.0</td>\n",
       "    </tr>\n",
       "  </tbody>\n",
       "</table>\n",
       "<p>8 rows × 21 columns</p>\n",
       "</div>"
      ]
     },
     "execution_count": 596,
     "metadata": {},
     "output_type": "execute_result"
    }
   ],
   "execution_count": 596
  },
  {
   "metadata": {
    "ExecuteTime": {
     "end_time": "2024-05-25T18:51:37.878492Z",
     "start_time": "2024-05-25T18:51:37.876352Z"
    }
   },
   "cell_type": "code",
   "source": "print(X_test.columns == X_train.columns)",
   "id": "7846b4c2b8d838fa",
   "outputs": [
    {
     "name": "stdout",
     "output_type": "stream",
     "text": [
      "[ True  True  True  True  True  True  True  True  True  True  True  True\n",
      "  True  True  True  True  True  True  True  True  True  True]\n"
     ]
    }
   ],
   "execution_count": 597
  },
  {
   "metadata": {
    "ExecuteTime": {
     "end_time": "2024-05-25T18:51:37.897463Z",
     "start_time": "2024-05-25T18:51:37.894697Z"
    }
   },
   "cell_type": "code",
   "source": "X_train.columns",
   "id": "ca4a61ee99c44418",
   "outputs": [
    {
     "data": {
      "text/plain": [
       "Index(['age', 'sex', 'trestbps', 'chol', 'fbs', 'thalach', 'exang', 'oldpeak',\n",
       "       'ca', 'cp_1.0', 'cp_2.0', 'cp_3.0', 'cp_4.0', 'restecg_0.0',\n",
       "       'restecg_1.0', 'restecg_2.0', 'slope_1.0', 'slope_2.0', 'slope_3.0',\n",
       "       'thal_3.0', 'thal_6.0', 'thal_7.0'],\n",
       "      dtype='object')"
      ]
     },
     "execution_count": 598,
     "metadata": {},
     "output_type": "execute_result"
    }
   ],
   "execution_count": 598
  },
  {
   "metadata": {},
   "cell_type": "markdown",
   "source": "Now the data is ready to be used with Machine Learning Algorithms.",
   "id": "ed60ced6a5216780"
  },
  {
   "metadata": {},
   "cell_type": "markdown",
   "source": [
    "## 3. Training And Testing Different \n",
    "\n",
    "### 3.1. Logistic Regression"
   ],
   "id": "5c42ac8667c1e0a6"
  },
  {
   "metadata": {
    "ExecuteTime": {
     "end_time": "2024-05-25T18:51:38.672210Z",
     "start_time": "2024-05-25T18:51:37.958567Z"
    }
   },
   "cell_type": "code",
   "source": [
    "logreg_params = {\n",
    "    'penalty': ['l2'],\n",
    "    'C': [0.001, 0.01, 0.1, 1, 10],\n",
    "    'solver': ['lbfgs', 'liblinear', 'newton-cholesky', 'sag'],\n",
    "    'max_iter': [650, 700, 800, 900, 1000],\n",
    "}\n",
    "\n",
    "logreg_clf = LogisticRegression()\n",
    "\n",
    "logreg_cv = GridSearchCV(estimator=logreg_clf, param_grid=logreg_params, cv=10, n_jobs=-1, verbose=1)\n",
    "logreg_cv.fit(X_train, y_train)\n",
    "\n",
    "logreg_optimal_params = logreg_cv.best_params_\n",
    "logreg_best_score = logreg_cv.best_score_\n",
    "\n",
    "print(f\"[Logistic Regression] Optimal parameters during CV on training set: {logreg_optimal_params}\")\n",
    "print(f\"[Logistic Regression] Best score during CV on training set: {logreg_best_score}\")"
   ],
   "id": "b320768106dd6647",
   "outputs": [
    {
     "name": "stdout",
     "output_type": "stream",
     "text": [
      "Fitting 10 folds for each of 100 candidates, totalling 1000 fits\n",
      "[Logistic Regression] Optimal parameters during CV on training set: {'C': 0.1, 'max_iter': 650, 'penalty': 'l2', 'solver': 'lbfgs'}\n",
      "[Logistic Regression] Best score during CV on training set: 0.8205533596837945\n"
     ]
    }
   ],
   "execution_count": 599
  },
  {
   "metadata": {
    "ExecuteTime": {
     "end_time": "2024-05-25T18:51:38.911195Z",
     "start_time": "2024-05-25T18:51:38.673435Z"
    }
   },
   "cell_type": "code",
   "source": [
    "logreg_test_scores = []\n",
    "\n",
    "for i in range(100):    \n",
    "    logreg_clf_optimized = LogisticRegression(**logreg_optimal_params)\n",
    "    logreg_clf_optimized.fit(X_train, y_train)\n",
    "    logreg_test_scores.append(logreg_clf_optimized.score(X_test, y_test))\n",
    "\n",
    "logreg_avg_test_score = np.mean(logreg_test_scores)\n",
    "logreg_avg_test_score"
   ],
   "id": "bc6ab53451e72a86",
   "outputs": [
    {
     "data": {
      "text/plain": [
       "0.9324324324324322"
      ]
     },
     "execution_count": 600,
     "metadata": {},
     "output_type": "execute_result"
    }
   ],
   "execution_count": 600
  },
  {
   "metadata": {
    "ExecuteTime": {
     "end_time": "2024-05-25T18:51:38.914595Z",
     "start_time": "2024-05-25T18:51:38.911953Z"
    }
   },
   "cell_type": "code",
   "source": [
    "# Summary for Logistic Regression model\n",
    "print(\"--------------- Logistic Regression --------------\\n\")\n",
    "print(f\"Results after 10-fold Cross-Validation:\\nBest Parameters (CV): {logreg_optimal_params}\\nBest score (CV): {logreg_best_score}\\n\")\n",
    "print(f\"Score on testing dataset: {logreg_avg_test_score}\\n\")\n",
    "print(f\"Score on testing dataset (%): {round(logreg_avg_test_score*100, 2)}%\\n\")\n",
    "print(\"-------------------------------------------------\")"
   ],
   "id": "6833ad4e83738b78",
   "outputs": [
    {
     "name": "stdout",
     "output_type": "stream",
     "text": [
      "--------------- Logistic Regression --------------\n",
      "\n",
      "Results after 10-fold Cross-Validation:\n",
      "Best Parameters (CV): {'C': 0.1, 'max_iter': 650, 'penalty': 'l2', 'solver': 'lbfgs'}\n",
      "Best score (CV): 0.8205533596837945\n",
      "\n",
      "Score on testing dataset: 0.9324324324324322\n",
      "\n",
      "Score on testing dataset (%): 93.24%\n",
      "\n",
      "-------------------------------------------------\n"
     ]
    }
   ],
   "execution_count": 601
  },
  {
   "metadata": {},
   "cell_type": "markdown",
   "source": "### 3.2. K-Nearest Neighbors",
   "id": "bc53c2d16a54ac95"
  },
  {
   "metadata": {
    "ExecuteTime": {
     "end_time": "2024-05-25T18:51:39.751521Z",
     "start_time": "2024-05-25T18:51:38.916132Z"
    }
   },
   "cell_type": "code",
   "source": [
    "knn_params = {\n",
    "    'n_neighbors': [2, 5, 10, 20],\n",
    "    'algorithm': ['ball_tree', 'kd_tree', 'brute'],\n",
    "    'leaf_size': [2, 5, 10, 20, 30, 40, 50],\n",
    "    'p': [1, 2],\n",
    "}\n",
    "\n",
    "knn_clf = KNeighborsClassifier()\n",
    "\n",
    "knn_cv = GridSearchCV(estimator=knn_clf, param_grid=knn_params, cv=10, n_jobs=-1, verbose=1)\n",
    "\n",
    "knn_cv.fit(X_train, y_train)\n",
    "\n",
    "# get the optimal parameters and best score\n",
    "knn_optimal_params = knn_cv.best_params_\n",
    "knn_best_score = knn_cv.best_score_\n",
    "\n",
    "print(\"[K-Nearest Neighbor] Best Parameters during CV on the training set:\", knn_optimal_params)\n",
    "print(\"[K-Nearest Neighbor] Best Score during CV on the training set:\", knn_best_score)"
   ],
   "id": "60b12bb959382d99",
   "outputs": [
    {
     "name": "stdout",
     "output_type": "stream",
     "text": [
      "Fitting 10 folds for each of 168 candidates, totalling 1680 fits\n",
      "[K-Nearest Neighbor] Best Parameters during CV on the training set: {'algorithm': 'ball_tree', 'leaf_size': 2, 'n_neighbors': 20, 'p': 1}\n",
      "[K-Nearest Neighbor] Best Score during CV on the training set: 0.8025691699604742\n"
     ]
    }
   ],
   "execution_count": 602
  },
  {
   "metadata": {
    "ExecuteTime": {
     "end_time": "2024-05-25T18:51:40.174899Z",
     "start_time": "2024-05-25T18:51:39.752387Z"
    }
   },
   "cell_type": "code",
   "source": [
    "knn_test_scores = []\n",
    "\n",
    "for i in range(100):\n",
    "    knn_clf_optimized = KNeighborsClassifier(**knn_optimal_params)\n",
    "    knn_clf_optimized.fit(X_train, y_train)\n",
    "    knn_test_scores.append(knn_clf_optimized.score(X_test, y_test))\n",
    "    \n",
    "knn_avg_test_score = np.mean(knn_test_scores)\n",
    "knn_avg_test_score"
   ],
   "id": "df444b88e3235012",
   "outputs": [
    {
     "data": {
      "text/plain": [
       "0.8648648648648651"
      ]
     },
     "execution_count": 603,
     "metadata": {},
     "output_type": "execute_result"
    }
   ],
   "execution_count": 603
  },
  {
   "metadata": {
    "ExecuteTime": {
     "end_time": "2024-05-25T18:51:40.178424Z",
     "start_time": "2024-05-25T18:51:40.175799Z"
    }
   },
   "cell_type": "code",
   "source": [
    "# Summary for K-Nearest Neighbor model\n",
    "print(\"--------------- K-Nearest Neighbor --------------\\n\")\n",
    "print(f\"Results after 10-fold Cross-Validation:\\nBest Parameters (CV): {knn_optimal_params}\\nBest score (CV): {knn_best_score}\\n\")\n",
    "print(f\"Score on testing dataset: {knn_avg_test_score}\\n\")\n",
    "print(f\"Score on testing dataset (%): {round(knn_avg_test_score*100, 2)}%\\n\")\n",
    "print(\"-------------------------------------------------\")"
   ],
   "id": "80127407f2545402",
   "outputs": [
    {
     "name": "stdout",
     "output_type": "stream",
     "text": [
      "--------------- K-Nearest Neighbor --------------\n",
      "\n",
      "Results after 10-fold Cross-Validation:\n",
      "Best Parameters (CV): {'algorithm': 'ball_tree', 'leaf_size': 2, 'n_neighbors': 20, 'p': 1}\n",
      "Best score (CV): 0.8025691699604742\n",
      "\n",
      "Score on testing dataset: 0.8648648648648651\n",
      "\n",
      "Score on testing dataset (%): 86.49%\n",
      "\n",
      "-------------------------------------------------\n"
     ]
    }
   ],
   "execution_count": 604
  },
  {
   "metadata": {},
   "cell_type": "markdown",
   "source": "### 3.3. Decision Tree (Classification Tree)",
   "id": "3eae6ee83397fa5c"
  },
  {
   "metadata": {
    "ExecuteTime": {
     "end_time": "2024-05-25T18:51:44.894767Z",
     "start_time": "2024-05-25T18:51:40.179228Z"
    }
   },
   "cell_type": "code",
   "source": [
    "dt_params = {\n",
    "    'criterion': [\"log_loss\"],\n",
    "    'max_depth': [1, 10, 20, 30, 50],\n",
    "    'min_samples_split': [2, 4, 6, 8, 10],\n",
    "    'max_features': [0.1, 0.2, 0.3, 0.4, 0.5, 0.6, 0.7, 0.8, 0.9, 1.0],\n",
    "    'ccp_alpha': [0, 0.001, 0.01, 0.1, 1, 10],\n",
    "}\n",
    "\n",
    "dt_clf = DecisionTreeClassifier()\n",
    "\n",
    "dt_cv = GridSearchCV(estimator=dt_clf, param_grid=dt_params , cv=10, n_jobs=-1, verbose=1)\n",
    "\n",
    "dt_cv.fit(X_train, y_train)\n",
    "\n",
    "# get the optimal parameters and best score\n",
    "dt_optimal_params = dt_cv.best_params_\n",
    "dt_best_score = dt_cv.best_score_\n",
    "\n",
    "print(\"[Decision Tree / Classification Tree] Best Parameters during CV on the training set:\", dt_optimal_params)\n",
    "print(\"[Decision Tree / Classification Tree] Best Score during CV on the training set:\", dt_best_score)"
   ],
   "id": "219af4711bf7a3d9",
   "outputs": [
    {
     "name": "stdout",
     "output_type": "stream",
     "text": [
      "Fitting 10 folds for each of 1500 candidates, totalling 15000 fits\n",
      "[Decision Tree / Classification Tree] Best Parameters during CV on the training set: {'ccp_alpha': 0, 'criterion': 'log_loss', 'max_depth': 10, 'max_features': 0.7, 'min_samples_split': 4}\n",
      "[Decision Tree / Classification Tree] Best Score during CV on the training set: 0.8106719367588934\n"
     ]
    }
   ],
   "execution_count": 605
  },
  {
   "metadata": {
    "ExecuteTime": {
     "end_time": "2024-05-25T18:51:45.104963Z",
     "start_time": "2024-05-25T18:51:44.895587Z"
    }
   },
   "cell_type": "code",
   "source": [
    "dt_test_scores = []\n",
    "\n",
    "for i in range(100):\n",
    "    dt_clf_optimized = DecisionTreeClassifier(**dt_optimal_params)\n",
    "    dt_clf_optimized.fit(X_train, y_train)\n",
    "    dt_test_scores.append(dt_clf_optimized.score(X_test, y_test))\n",
    "\n",
    "dt_avg_test_score = np.mean(dt_test_scores)\n",
    "dt_avg_test_score"
   ],
   "id": "a464520c6d86e5e7",
   "outputs": [
    {
     "data": {
      "text/plain": [
       "0.7859459459459458"
      ]
     },
     "execution_count": 606,
     "metadata": {},
     "output_type": "execute_result"
    }
   ],
   "execution_count": 606
  },
  {
   "metadata": {
    "ExecuteTime": {
     "end_time": "2024-05-25T18:51:45.108508Z",
     "start_time": "2024-05-25T18:51:45.105860Z"
    }
   },
   "cell_type": "code",
   "source": [
    "# Summary for Decision Tree / Classification Tree model\n",
    "print(\"--------------- Decision Tree / Classification Tree --------------\\n\")\n",
    "print(f\"Results after 10-fold Cross-Validation:\\nBest Parameters (CV): {dt_optimal_params}\\nBest score (CV): {dt_best_score}\\n\")\n",
    "print(f\"Score on testing dataset: {dt_avg_test_score}\\n\")\n",
    "print(f\"Score on testing dataset (%): {round(dt_avg_test_score*100, 2)}%\\n\")\n",
    "print(\"-------------------------------------------------\")"
   ],
   "id": "7afaeed2dbf3b176",
   "outputs": [
    {
     "name": "stdout",
     "output_type": "stream",
     "text": [
      "--------------- Decision Tree / Classification Tree --------------\n",
      "\n",
      "Results after 10-fold Cross-Validation:\n",
      "Best Parameters (CV): {'ccp_alpha': 0, 'criterion': 'log_loss', 'max_depth': 10, 'max_features': 0.7, 'min_samples_split': 4}\n",
      "Best score (CV): 0.8106719367588934\n",
      "\n",
      "Score on testing dataset: 0.7859459459459458\n",
      "\n",
      "Score on testing dataset (%): 78.59%\n",
      "\n",
      "-------------------------------------------------\n"
     ]
    }
   ],
   "execution_count": 607
  },
  {
   "metadata": {},
   "cell_type": "markdown",
   "source": "### 3.4. Random Forest",
   "id": "95b0eb8ddc600270"
  },
  {
   "metadata": {
    "ExecuteTime": {
     "end_time": "2024-05-25T18:52:05.177361Z",
     "start_time": "2024-05-25T18:51:45.110511Z"
    }
   },
   "cell_type": "code",
   "source": [
    "rf_params = {\n",
    "    'criterion': ['log_loss'],\n",
    "    'n_estimators': [2, 5, 10, 20, 50],\n",
    "    'max_depth': [1, 10, 20, 30],\n",
    "    'max_features': [0.1, 0.2, 0.3, 0.4, 0.5, 0.6, 0.7, 0.8, 0.9, 1.0],\n",
    "    'ccp_alpha': [0.001, 0.01, 0.1, 1, 10],\n",
    "}\n",
    "\n",
    "rf_clf = RandomForestClassifier()\n",
    "\n",
    "rf_cv = GridSearchCV(estimator=rf_clf, param_grid=rf_params , cv=10, n_jobs=-1, verbose=1)\n",
    "\n",
    "rf_cv.fit(X_train, y_train)\n",
    "\n",
    "# get the optimal parameters and best score\n",
    "rf_optimal_params = rf_cv.best_params_\n",
    "rf_best_score = rf_cv.best_score_\n",
    "\n",
    "print(\"[Random Forest] Best Parameters during CV on the training set:\", rf_optimal_params)\n",
    "print(\"[Random Forest] Best Score during CV on the training set:\", rf_best_score)"
   ],
   "id": "23cb9627ba45aaa7",
   "outputs": [
    {
     "name": "stdout",
     "output_type": "stream",
     "text": [
      "Fitting 10 folds for each of 1000 candidates, totalling 10000 fits\n",
      "[Random Forest] Best Parameters during CV on the training set: {'ccp_alpha': 0.001, 'criterion': 'log_loss', 'max_depth': 1, 'max_features': 0.1, 'n_estimators': 50}\n",
      "[Random Forest] Best Score during CV on the training set: 0.8298418972332016\n"
     ]
    }
   ],
   "execution_count": 608
  },
  {
   "metadata": {
    "ExecuteTime": {
     "end_time": "2024-05-25T18:52:08.169629Z",
     "start_time": "2024-05-25T18:52:05.178120Z"
    }
   },
   "cell_type": "code",
   "source": [
    "rf_test_scores = []\n",
    "\n",
    "for i in range(100):\n",
    "    rf_clf_optimized = RandomForestClassifier(**rf_optimal_params)\n",
    "    rf_clf_optimized.fit(X_train, y_train)\n",
    "    rf_test_scores.append(rf_clf_optimized.score(X_test, y_test))\n",
    "\n",
    "rf_avg_test_score = np.mean(rf_test_scores)\n",
    "rf_avg_test_score"
   ],
   "id": "e99aaba8e03627c8",
   "outputs": [
    {
     "data": {
      "text/plain": [
       "0.8706756756756756"
      ]
     },
     "execution_count": 609,
     "metadata": {},
     "output_type": "execute_result"
    }
   ],
   "execution_count": 609
  },
  {
   "metadata": {
    "ExecuteTime": {
     "end_time": "2024-05-25T18:52:08.172926Z",
     "start_time": "2024-05-25T18:52:08.170344Z"
    }
   },
   "cell_type": "code",
   "source": [
    "# Summary for Random Forest model\n",
    "print(\"--------------- Random Forest --------------\\n\")\n",
    "print(f\"Results after 10-fold Cross-Validation:\\nBest Parameters (CV): {rf_optimal_params}\\nBest score (CV): {rf_best_score}\\n\")\n",
    "print(f\"Score on testing dataset: {rf_avg_test_score}\\n\")\n",
    "print(f\"Score on testing dataset (%): {round(rf_avg_test_score*100, 2)}%\\n\")\n",
    "print(\"-------------------------------------------------\")"
   ],
   "id": "ee1ed787a1fcdd84",
   "outputs": [
    {
     "name": "stdout",
     "output_type": "stream",
     "text": [
      "--------------- Random Forest --------------\n",
      "\n",
      "Results after 10-fold Cross-Validation:\n",
      "Best Parameters (CV): {'ccp_alpha': 0.001, 'criterion': 'log_loss', 'max_depth': 1, 'max_features': 0.1, 'n_estimators': 50}\n",
      "Best score (CV): 0.8298418972332016\n",
      "\n",
      "Score on testing dataset: 0.8706756756756756\n",
      "\n",
      "Score on testing dataset (%): 87.07%\n",
      "\n",
      "-------------------------------------------------\n"
     ]
    }
   ],
   "execution_count": 610
  },
  {
   "metadata": {},
   "cell_type": "markdown",
   "source": "### 3.5 Support Vector Machine",
   "id": "8fd9d9f51b37839c"
  },
  {
   "metadata": {
    "ExecuteTime": {
     "end_time": "2024-05-25T19:00:24.387504Z",
     "start_time": "2024-05-25T19:00:23.198254Z"
    }
   },
   "cell_type": "code",
   "source": [
    "svm_params = {\n",
    "    'kernel' : ['rbf'],\n",
    "    'C' : [0.01, 0.1, 0.5, 1, 5, 10],\n",
    "    'gamma' : ['scale', 1, 0.1, 0.01, 0.001, 0.0001],\n",
    "}\n",
    "\n",
    "svm_clf = SVC()\n",
    "\n",
    "svm_cv = GridSearchCV(estimator=svm_clf, param_grid=svm_params , cv=10, n_jobs=-1, verbose=1)\n",
    "\n",
    "svm_cv.fit(X_train, y_train)\n",
    "\n",
    "# get the optimal parameters and best score\n",
    "svm_optimal_params = svm_cv.best_params_\n",
    "svm_best_score = svm_cv.best_score_\n",
    "\n",
    "print(\"[Support Vector Machine] Best Parameters during CV on the training set:\", svm_optimal_params)\n",
    "print(\"[Support Vector Machine] Best Score during CV on the training set:\", svm_best_score)"
   ],
   "id": "d0d64051ba301225",
   "outputs": [
    {
     "name": "stdout",
     "output_type": "stream",
     "text": [
      "Fitting 10 folds for each of 36 candidates, totalling 360 fits\n",
      "[Support Vector Machine] Best Parameters during CV on the training set: {'C': 5, 'gamma': 0.01, 'kernel': 'rbf'}\n",
      "[Support Vector Machine] Best Score during CV on the training set: 0.8203557312252965\n"
     ]
    }
   ],
   "execution_count": 622
  },
  {
   "metadata": {
    "ExecuteTime": {
     "end_time": "2024-05-25T19:02:31.902518Z",
     "start_time": "2024-05-25T19:02:31.547414Z"
    }
   },
   "cell_type": "code",
   "source": [
    "svm_test_scores = []\n",
    "\n",
    "for i in range(100):\n",
    "    svm_clf_optimized = SVC(**svm_optimal_params)\n",
    "    svm_clf_optimized.fit(X_train, y_train)\n",
    "    svm_test_scores.append(svm_clf_optimized.score(X_test, y_test))\n",
    "\n",
    "svm_avg_test_score = np.mean(svm_test_scores)\n",
    "svm_avg_test_score"
   ],
   "id": "766b22e09e686790",
   "outputs": [
    {
     "data": {
      "text/plain": [
       "0.8918918918918917"
      ]
     },
     "execution_count": 625,
     "metadata": {},
     "output_type": "execute_result"
    }
   ],
   "execution_count": 625
  },
  {
   "metadata": {
    "ExecuteTime": {
     "end_time": "2024-05-25T19:03:34.792143Z",
     "start_time": "2024-05-25T19:03:34.788733Z"
    }
   },
   "cell_type": "code",
   "source": [
    "# Summary for Support Vector Machine model\n",
    "print(\"--------------- Support Vector Machine --------------\\n\")\n",
    "print(f\"Results after 10-fold Cross-Validation:\\nBest Parameters (CV): {svm_optimal_params}\\nBest score (CV): {svm_best_score}\\n\")\n",
    "print(f\"Score on testing dataset: {svm_avg_test_score}\\n\")\n",
    "print(f\"Score on testing dataset (%): {round(svm_avg_test_score*100, 2)}%\\n\")\n",
    "print(\"-------------------------------------------------\")"
   ],
   "id": "31b52340416fb2f4",
   "outputs": [
    {
     "name": "stdout",
     "output_type": "stream",
     "text": [
      "--------------- Support Vector Machine --------------\n",
      "\n",
      "Results after 10-fold Cross-Validation:\n",
      "Best Parameters (CV): {'C': 5, 'gamma': 0.01, 'kernel': 'rbf'}\n",
      "Best score (CV): 0.8203557312252965\n",
      "\n",
      "Score on testing dataset: 0.8918918918918917\n",
      "\n",
      "Score on testing dataset (%): 89.19%\n",
      "\n",
      "-------------------------------------------------\n"
     ]
    }
   ],
   "execution_count": 626
  },
  {
   "metadata": {},
   "cell_type": "markdown",
   "source": "## 4. Comparison",
   "id": "5d7746731d9756f6"
  },
  {
   "metadata": {
    "ExecuteTime": {
     "end_time": "2024-05-25T19:46:55.447316Z",
     "start_time": "2024-05-25T19:46:55.366043Z"
    }
   },
   "cell_type": "code",
   "source": [
    "model_results = {\n",
    "    'Logistic Regression': logreg_avg_test_score,\n",
    "    'K-Nearest Neighbor': knn_avg_test_score,\n",
    "    'Decision Tree': dt_avg_test_score,\n",
    "    'Random Forest': rf_avg_test_score,\n",
    "    'Support Vector Machine': svm_avg_test_score\n",
    "}\n",
    "\n",
    "model_names = list(model_results.keys())\n",
    "model_scores = list(model_results.values())\n",
    "num_models = len(model_names)\n",
    "y_positions = np.arange(num_models)\n",
    "\n",
    "bar_height = 0.4\n",
    "\n",
    "# Plotting the horizontal bar chart\n",
    "plt.figure(figsize=(15, 3))\n",
    "plt.barh(y_positions, model_scores, color='skyblue', height=bar_height)\n",
    "plt.yticks(y_positions, model_names)\n",
    "plt.xlabel('Score')\n",
    "plt.ylabel('Model')\n",
    "plt.title('Model Comparison')\n",
    "plt.xlim(0.7, 1)  # start x-axis at 0.7 to make the difference more visible\n",
    "plt.gca().invert_yaxis() # inverting to match the order of this notebook\n",
    "plt.show()"
   ],
   "id": "a04795900908f590",
   "outputs": [
    {
     "data": {
      "text/plain": [
       "<Figure size 1500x300 with 1 Axes>"
      ],
      "image/png": "[encoded data removed]"
     },
     "metadata": {},
     "output_type": "display_data"
    }
   ],
   "execution_count": 644
  }
 ],
 "metadata": {
  "kernelspec": {
   "display_name": "Python 3",
   "language": "python",
   "name": "python3"
  },
  "language_info": {
   "codemirror_mode": {
    "name": "ipython",
    "version": 2
   },
   "file_extension": ".py",
   "mimetype": "text/x-python",
   "name": "python",
   "nbconvert_exporter": "python",
   "pygments_lexer": "ipython2",
   "version": "2.7.6"
  }
 },
 "nbformat": 4,
 "nbformat_minor": 5
}
